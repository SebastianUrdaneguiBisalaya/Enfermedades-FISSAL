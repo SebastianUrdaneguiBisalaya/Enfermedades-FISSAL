{
 "cells": [
  {
   "cell_type": "markdown",
   "id": "5f33c276",
   "metadata": {},
   "source": [
    "## **Enfermedades raras, huérfanas y transplantes solventados por el Fondo Intangible Solidario de Salud (FISSAL)**"
   ]
  },
  {
   "cell_type": "code",
   "execution_count": 1,
   "id": "fe84521f",
   "metadata": {},
   "outputs": [],
   "source": [
    "import pandas as pd\n",
    "import numpy as np\n",
    "import matplotlib.pyplot as plt\n",
    "import seaborn as sns\n",
    "import plotly.express as px"
   ]
  },
  {
   "cell_type": "code",
   "execution_count": 2,
   "id": "a81823eb",
   "metadata": {},
   "outputs": [
    {
     "data": {
      "text/html": [
       "<div>\n",
       "<style scoped>\n",
       "    .dataframe tbody tr th:only-of-type {\n",
       "        vertical-align: middle;\n",
       "    }\n",
       "\n",
       "    .dataframe tbody tr th {\n",
       "        vertical-align: top;\n",
       "    }\n",
       "\n",
       "    .dataframe thead th {\n",
       "        text-align: right;\n",
       "    }\n",
       "</style>\n",
       "<table border=\"1\" class=\"dataframe\">\n",
       "  <thead>\n",
       "    <tr style=\"text-align: right;\">\n",
       "      <th></th>\n",
       "      <th>DOCUMENTO_ANONIMIZADO</th>\n",
       "      <th>PERIODO</th>\n",
       "      <th>RENAES</th>\n",
       "      <th>IPRESS</th>\n",
       "      <th>REGION</th>\n",
       "      <th>DEPARTAMENTO</th>\n",
       "      <th>PROVINCIA</th>\n",
       "      <th>DISTRITO</th>\n",
       "      <th>UBIGEO</th>\n",
       "      <th>CODIGO_DIAGNOSTICO</th>\n",
       "      <th>DIAGNOSTICOS</th>\n",
       "      <th>GRUPO_DIAGNOSTICOS</th>\n",
       "      <th>GRUPO_COBERTURA</th>\n",
       "      <th>SEXO</th>\n",
       "      <th>EDAD</th>\n",
       "      <th>TIPO_SEGURO</th>\n",
       "      <th>SERVICIO</th>\n",
       "      <th>FECHA_ATENCION</th>\n",
       "      <th>MONTO_BRUTO</th>\n",
       "      <th>FECHA_CORTE</th>\n",
       "    </tr>\n",
       "  </thead>\n",
       "  <tbody>\n",
       "    <tr>\n",
       "      <th>0</th>\n",
       "      <td>74417</td>\n",
       "      <td>2022</td>\n",
       "      <td>2305</td>\n",
       "      <td>ANTONIO LORENA DEL CUSCO</td>\n",
       "      <td>CUSCO</td>\n",
       "      <td>Cusco</td>\n",
       "      <td>Cusco</td>\n",
       "      <td>Santiago</td>\n",
       "      <td>80106.0</td>\n",
       "      <td>Q721</td>\n",
       "      <td>Ausencia congénita del muslo y de la pierna co...</td>\n",
       "      <td>ENFERMEDAD RARA O HUERFANA</td>\n",
       "      <td>ERH</td>\n",
       "      <td>FEMENINO</td>\n",
       "      <td>28</td>\n",
       "      <td>SIS GRATUITO</td>\n",
       "      <td>AMBULATORIO</td>\n",
       "      <td>20211229</td>\n",
       "      <td>1.76</td>\n",
       "      <td>20230525</td>\n",
       "    </tr>\n",
       "    <tr>\n",
       "      <th>1</th>\n",
       "      <td>74417</td>\n",
       "      <td>2022</td>\n",
       "      <td>2305</td>\n",
       "      <td>ANTONIO LORENA DEL CUSCO</td>\n",
       "      <td>CUSCO</td>\n",
       "      <td>Cusco</td>\n",
       "      <td>Cusco</td>\n",
       "      <td>Santiago</td>\n",
       "      <td>80106.0</td>\n",
       "      <td>Q721</td>\n",
       "      <td>Ausencia congénita del muslo y de la pierna co...</td>\n",
       "      <td>ENFERMEDAD RARA O HUERFANA</td>\n",
       "      <td>ERH</td>\n",
       "      <td>FEMENINO</td>\n",
       "      <td>28</td>\n",
       "      <td>SIS GRATUITO</td>\n",
       "      <td>AMBULATORIO</td>\n",
       "      <td>20211229</td>\n",
       "      <td>3.60</td>\n",
       "      <td>20230525</td>\n",
       "    </tr>\n",
       "    <tr>\n",
       "      <th>2</th>\n",
       "      <td>74417</td>\n",
       "      <td>2022</td>\n",
       "      <td>2305</td>\n",
       "      <td>ANTONIO LORENA DEL CUSCO</td>\n",
       "      <td>CUSCO</td>\n",
       "      <td>Cusco</td>\n",
       "      <td>Cusco</td>\n",
       "      <td>Santiago</td>\n",
       "      <td>80106.0</td>\n",
       "      <td>Q721</td>\n",
       "      <td>Ausencia congénita del muslo y de la pierna co...</td>\n",
       "      <td>ENFERMEDAD RARA O HUERFANA</td>\n",
       "      <td>ERH</td>\n",
       "      <td>FEMENINO</td>\n",
       "      <td>28</td>\n",
       "      <td>SIS GRATUITO</td>\n",
       "      <td>AMBULATORIO</td>\n",
       "      <td>20211229</td>\n",
       "      <td>4.80</td>\n",
       "      <td>20230525</td>\n",
       "    </tr>\n",
       "    <tr>\n",
       "      <th>3</th>\n",
       "      <td>79839</td>\n",
       "      <td>2022</td>\n",
       "      <td>2305</td>\n",
       "      <td>ANTONIO LORENA DEL CUSCO</td>\n",
       "      <td>CUSCO</td>\n",
       "      <td>Cusco</td>\n",
       "      <td>Cusco</td>\n",
       "      <td>Santiago</td>\n",
       "      <td>80106.0</td>\n",
       "      <td>Q431</td>\n",
       "      <td>Enfermedad de Hirschsprung</td>\n",
       "      <td>ENFERMEDAD RARA O HUERFANA</td>\n",
       "      <td>ERH</td>\n",
       "      <td>FEMENINO</td>\n",
       "      <td>0</td>\n",
       "      <td>SIS GRATUITO</td>\n",
       "      <td>AMBULATORIO</td>\n",
       "      <td>20211219</td>\n",
       "      <td>1.80</td>\n",
       "      <td>20230525</td>\n",
       "    </tr>\n",
       "    <tr>\n",
       "      <th>4</th>\n",
       "      <td>43660</td>\n",
       "      <td>2022</td>\n",
       "      <td>2305</td>\n",
       "      <td>ANTONIO LORENA DEL CUSCO</td>\n",
       "      <td>CUSCO</td>\n",
       "      <td>Cusco</td>\n",
       "      <td>Cusco</td>\n",
       "      <td>Santiago</td>\n",
       "      <td>80106.0</td>\n",
       "      <td>I151</td>\n",
       "      <td>Hipertensión secundaria a otros trastornos ren...</td>\n",
       "      <td>ENFERMEDAD RARA O HUERFANA</td>\n",
       "      <td>ERH</td>\n",
       "      <td>FEMENINO</td>\n",
       "      <td>56</td>\n",
       "      <td>SIS GRATUITO</td>\n",
       "      <td>AMBULATORIO</td>\n",
       "      <td>20211213</td>\n",
       "      <td>2.70</td>\n",
       "      <td>20230525</td>\n",
       "    </tr>\n",
       "  </tbody>\n",
       "</table>\n",
       "</div>"
      ],
      "text/plain": [
       "   DOCUMENTO_ANONIMIZADO  PERIODO  RENAES                    IPRESS REGION  \\\n",
       "0                  74417     2022    2305  ANTONIO LORENA DEL CUSCO  CUSCO   \n",
       "1                  74417     2022    2305  ANTONIO LORENA DEL CUSCO  CUSCO   \n",
       "2                  74417     2022    2305  ANTONIO LORENA DEL CUSCO  CUSCO   \n",
       "3                  79839     2022    2305  ANTONIO LORENA DEL CUSCO  CUSCO   \n",
       "4                  43660     2022    2305  ANTONIO LORENA DEL CUSCO  CUSCO   \n",
       "\n",
       "  DEPARTAMENTO PROVINCIA  DISTRITO   UBIGEO CODIGO_DIAGNOSTICO  \\\n",
       "0        Cusco     Cusco  Santiago  80106.0               Q721   \n",
       "1        Cusco     Cusco  Santiago  80106.0               Q721   \n",
       "2        Cusco     Cusco  Santiago  80106.0               Q721   \n",
       "3        Cusco     Cusco  Santiago  80106.0               Q431   \n",
       "4        Cusco     Cusco  Santiago  80106.0               I151   \n",
       "\n",
       "                                        DIAGNOSTICOS  \\\n",
       "0  Ausencia congénita del muslo y de la pierna co...   \n",
       "1  Ausencia congénita del muslo y de la pierna co...   \n",
       "2  Ausencia congénita del muslo y de la pierna co...   \n",
       "3                         Enfermedad de Hirschsprung   \n",
       "4  Hipertensión secundaria a otros trastornos ren...   \n",
       "\n",
       "           GRUPO_DIAGNOSTICOS GRUPO_COBERTURA      SEXO  EDAD   TIPO_SEGURO  \\\n",
       "0  ENFERMEDAD RARA O HUERFANA             ERH  FEMENINO    28  SIS GRATUITO   \n",
       "1  ENFERMEDAD RARA O HUERFANA             ERH  FEMENINO    28  SIS GRATUITO   \n",
       "2  ENFERMEDAD RARA O HUERFANA             ERH  FEMENINO    28  SIS GRATUITO   \n",
       "3  ENFERMEDAD RARA O HUERFANA             ERH  FEMENINO     0  SIS GRATUITO   \n",
       "4  ENFERMEDAD RARA O HUERFANA             ERH  FEMENINO    56  SIS GRATUITO   \n",
       "\n",
       "      SERVICIO  FECHA_ATENCION  MONTO_BRUTO  FECHA_CORTE  \n",
       "0  AMBULATORIO        20211229         1.76     20230525  \n",
       "1  AMBULATORIO        20211229         3.60     20230525  \n",
       "2  AMBULATORIO        20211229         4.80     20230525  \n",
       "3  AMBULATORIO        20211219         1.80     20230525  \n",
       "4  AMBULATORIO        20211213         2.70     20230525  "
      ]
     },
     "execution_count": 2,
     "metadata": {},
     "output_type": "execute_result"
    }
   ],
   "source": [
    "data = pd.read_csv('DATASETS_RARAS_HUERFANAS.csv', delimiter = ';', encoding = 'latin-1')\n",
    "data.head()"
   ]
  },
  {
   "cell_type": "code",
   "execution_count": 3,
   "id": "c827dfa7",
   "metadata": {},
   "outputs": [
    {
     "data": {
      "text/plain": [
       "Index(['DOCUMENTO_ANONIMIZADO', 'PERIODO', 'RENAES', 'IPRESS', 'REGION',\n",
       "       'DEPARTAMENTO', 'PROVINCIA', 'DISTRITO', 'UBIGEO', 'CODIGO_DIAGNOSTICO',\n",
       "       'DIAGNOSTICOS', 'GRUPO_DIAGNOSTICOS', 'GRUPO_COBERTURA', 'SEXO', 'EDAD',\n",
       "       'TIPO_SEGURO', 'SERVICIO', 'FECHA_ATENCION', 'MONTO_BRUTO',\n",
       "       'FECHA_CORTE'],\n",
       "      dtype='object')"
      ]
     },
     "execution_count": 3,
     "metadata": {},
     "output_type": "execute_result"
    }
   ],
   "source": [
    "data.columns"
   ]
  },
  {
   "cell_type": "code",
   "execution_count": 4,
   "id": "65351046",
   "metadata": {},
   "outputs": [
    {
     "data": {
      "text/plain": [
       "(1354037, 20)"
      ]
     },
     "execution_count": 4,
     "metadata": {},
     "output_type": "execute_result"
    }
   ],
   "source": [
    "data.shape"
   ]
  },
  {
   "cell_type": "code",
   "execution_count": 5,
   "id": "f53b0334",
   "metadata": {},
   "outputs": [
    {
     "data": {
      "text/plain": [
       "DOCUMENTO_ANONIMIZADO      int64\n",
       "PERIODO                    int64\n",
       "RENAES                     int64\n",
       "IPRESS                    object\n",
       "REGION                    object\n",
       "DEPARTAMENTO              object\n",
       "PROVINCIA                 object\n",
       "DISTRITO                  object\n",
       "UBIGEO                   float64\n",
       "CODIGO_DIAGNOSTICO        object\n",
       "DIAGNOSTICOS              object\n",
       "GRUPO_DIAGNOSTICOS        object\n",
       "GRUPO_COBERTURA           object\n",
       "SEXO                      object\n",
       "EDAD                       int64\n",
       "TIPO_SEGURO               object\n",
       "SERVICIO                  object\n",
       "FECHA_ATENCION             int64\n",
       "MONTO_BRUTO              float64\n",
       "FECHA_CORTE                int64\n",
       "dtype: object"
      ]
     },
     "execution_count": 5,
     "metadata": {},
     "output_type": "execute_result"
    }
   ],
   "source": [
    "data.dtypes"
   ]
  },
  {
   "cell_type": "code",
   "execution_count": 6,
   "id": "7edff67e",
   "metadata": {},
   "outputs": [
    {
     "data": {
      "text/plain": [
       "DOCUMENTO_ANONIMIZADO       0\n",
       "PERIODO                     0\n",
       "RENAES                      0\n",
       "IPRESS                   6283\n",
       "REGION                      0\n",
       "DEPARTAMENTO             3630\n",
       "PROVINCIA                3630\n",
       "DISTRITO                 3630\n",
       "UBIGEO                   3630\n",
       "CODIGO_DIAGNOSTICO          0\n",
       "DIAGNOSTICOS                0\n",
       "GRUPO_DIAGNOSTICOS          0\n",
       "GRUPO_COBERTURA             0\n",
       "SEXO                        0\n",
       "EDAD                        0\n",
       "TIPO_SEGURO                 0\n",
       "SERVICIO                    0\n",
       "FECHA_ATENCION              0\n",
       "MONTO_BRUTO                 0\n",
       "FECHA_CORTE                 0\n",
       "dtype: int64"
      ]
     },
     "execution_count": 6,
     "metadata": {},
     "output_type": "execute_result"
    }
   ],
   "source": [
    "data.isnull().sum()"
   ]
  },
  {
   "cell_type": "markdown",
   "id": "8e680a76",
   "metadata": {},
   "source": [
    "### **Análisis Exploratio de Datos**"
   ]
  },
  {
   "cell_type": "code",
   "execution_count": 7,
   "id": "52c0c51f",
   "metadata": {},
   "outputs": [
    {
     "name": "stdout",
     "output_type": "stream",
     "text": [
      "Existen 75 establecimientos únicos de salud en el dataset\n"
     ]
    }
   ],
   "source": [
    "print(f'Existen {len(data[\"RENAES\"].unique())} establecimientos únicos de salud en el dataset')"
   ]
  },
  {
   "cell_type": "code",
   "execution_count": 8,
   "id": "42ff427e",
   "metadata": {},
   "outputs": [
    {
     "name": "stdout",
     "output_type": "stream",
     "text": [
      "Existen 75 establecimientos únicos de salud en el dataset\n"
     ]
    }
   ],
   "source": [
    "print(f'Existen {len(data[\"IPRESS\"].unique())} establecimientos únicos de salud en el dataset')"
   ]
  },
  {
   "cell_type": "code",
   "execution_count": 9,
   "id": "db92af65",
   "metadata": {},
   "outputs": [
    {
     "name": "stdout",
     "output_type": "stream",
     "text": [
      "Existen 51659 personas únicas en el dataset\n"
     ]
    }
   ],
   "source": [
    "print(f'Existen {data[\"DOCUMENTO_ANONIMIZADO\"].nunique()} personas únicas en el dataset')"
   ]
  },
  {
   "cell_type": "code",
   "execution_count": 10,
   "id": "696fc278",
   "metadata": {},
   "outputs": [
    {
     "data": {
      "text/html": [
       "<div>\n",
       "<style scoped>\n",
       "    .dataframe tbody tr th:only-of-type {\n",
       "        vertical-align: middle;\n",
       "    }\n",
       "\n",
       "    .dataframe tbody tr th {\n",
       "        vertical-align: top;\n",
       "    }\n",
       "\n",
       "    .dataframe thead th {\n",
       "        text-align: right;\n",
       "    }\n",
       "</style>\n",
       "<table border=\"1\" class=\"dataframe\">\n",
       "  <thead>\n",
       "    <tr style=\"text-align: right;\">\n",
       "      <th></th>\n",
       "      <th>RENAES</th>\n",
       "      <th>%</th>\n",
       "    </tr>\n",
       "    <tr>\n",
       "      <th>REGION</th>\n",
       "      <th></th>\n",
       "      <th></th>\n",
       "    </tr>\n",
       "  </thead>\n",
       "  <tbody>\n",
       "    <tr>\n",
       "      <th>LIMA</th>\n",
       "      <td>25</td>\n",
       "      <td>33.0</td>\n",
       "    </tr>\n",
       "    <tr>\n",
       "      <th>AREQUIPA</th>\n",
       "      <td>6</td>\n",
       "      <td>8.0</td>\n",
       "    </tr>\n",
       "    <tr>\n",
       "      <th>JUNIN</th>\n",
       "      <td>5</td>\n",
       "      <td>7.0</td>\n",
       "    </tr>\n",
       "    <tr>\n",
       "      <th>LA LIBERTAD</th>\n",
       "      <td>3</td>\n",
       "      <td>4.0</td>\n",
       "    </tr>\n",
       "    <tr>\n",
       "      <th>AYACUCHO</th>\n",
       "      <td>3</td>\n",
       "      <td>4.0</td>\n",
       "    </tr>\n",
       "    <tr>\n",
       "      <th>CALLAO</th>\n",
       "      <td>3</td>\n",
       "      <td>4.0</td>\n",
       "    </tr>\n",
       "    <tr>\n",
       "      <th>ICA</th>\n",
       "      <td>3</td>\n",
       "      <td>4.0</td>\n",
       "    </tr>\n",
       "    <tr>\n",
       "      <th>ANCASH</th>\n",
       "      <td>3</td>\n",
       "      <td>4.0</td>\n",
       "    </tr>\n",
       "    <tr>\n",
       "      <th>LAMBAYEQUE</th>\n",
       "      <td>2</td>\n",
       "      <td>3.0</td>\n",
       "    </tr>\n",
       "    <tr>\n",
       "      <th>SAN MARTIN</th>\n",
       "      <td>2</td>\n",
       "      <td>3.0</td>\n",
       "    </tr>\n",
       "    <tr>\n",
       "      <th>PUNO</th>\n",
       "      <td>2</td>\n",
       "      <td>3.0</td>\n",
       "    </tr>\n",
       "    <tr>\n",
       "      <th>PIURA</th>\n",
       "      <td>2</td>\n",
       "      <td>3.0</td>\n",
       "    </tr>\n",
       "    <tr>\n",
       "      <th>LORETO</th>\n",
       "      <td>2</td>\n",
       "      <td>3.0</td>\n",
       "    </tr>\n",
       "    <tr>\n",
       "      <th>UCAYALI</th>\n",
       "      <td>2</td>\n",
       "      <td>3.0</td>\n",
       "    </tr>\n",
       "    <tr>\n",
       "      <th>CUSCO</th>\n",
       "      <td>2</td>\n",
       "      <td>3.0</td>\n",
       "    </tr>\n",
       "    <tr>\n",
       "      <th>APURIMAC</th>\n",
       "      <td>2</td>\n",
       "      <td>3.0</td>\n",
       "    </tr>\n",
       "    <tr>\n",
       "      <th>HUANUCO</th>\n",
       "      <td>1</td>\n",
       "      <td>1.0</td>\n",
       "    </tr>\n",
       "    <tr>\n",
       "      <th>HUANCAVELICA</th>\n",
       "      <td>1</td>\n",
       "      <td>1.0</td>\n",
       "    </tr>\n",
       "    <tr>\n",
       "      <th>MADRE DE DIOS</th>\n",
       "      <td>1</td>\n",
       "      <td>1.0</td>\n",
       "    </tr>\n",
       "    <tr>\n",
       "      <th>MOQUEGUA</th>\n",
       "      <td>1</td>\n",
       "      <td>1.0</td>\n",
       "    </tr>\n",
       "    <tr>\n",
       "      <th>CAJAMARCA</th>\n",
       "      <td>1</td>\n",
       "      <td>1.0</td>\n",
       "    </tr>\n",
       "    <tr>\n",
       "      <th>TACNA</th>\n",
       "      <td>1</td>\n",
       "      <td>1.0</td>\n",
       "    </tr>\n",
       "    <tr>\n",
       "      <th>TUMBES</th>\n",
       "      <td>1</td>\n",
       "      <td>1.0</td>\n",
       "    </tr>\n",
       "    <tr>\n",
       "      <th>AMAZONAS</th>\n",
       "      <td>1</td>\n",
       "      <td>1.0</td>\n",
       "    </tr>\n",
       "  </tbody>\n",
       "</table>\n",
       "</div>"
      ],
      "text/plain": [
       "               RENAES     %\n",
       "REGION                     \n",
       "LIMA               25  33.0\n",
       "AREQUIPA            6   8.0\n",
       "JUNIN               5   7.0\n",
       "LA LIBERTAD         3   4.0\n",
       "AYACUCHO            3   4.0\n",
       "CALLAO              3   4.0\n",
       "ICA                 3   4.0\n",
       "ANCASH              3   4.0\n",
       "LAMBAYEQUE          2   3.0\n",
       "SAN MARTIN          2   3.0\n",
       "PUNO                2   3.0\n",
       "PIURA               2   3.0\n",
       "LORETO              2   3.0\n",
       "UCAYALI             2   3.0\n",
       "CUSCO               2   3.0\n",
       "APURIMAC            2   3.0\n",
       "HUANUCO             1   1.0\n",
       "HUANCAVELICA        1   1.0\n",
       "MADRE DE DIOS       1   1.0\n",
       "MOQUEGUA            1   1.0\n",
       "CAJAMARCA           1   1.0\n",
       "TACNA               1   1.0\n",
       "TUMBES              1   1.0\n",
       "AMAZONAS            1   1.0"
      ]
     },
     "execution_count": 10,
     "metadata": {},
     "output_type": "execute_result"
    }
   ],
   "source": [
    "df1 = pd.DataFrame(data.groupby('REGION')['RENAES'].nunique())\n",
    "df1[\"%\"] = df1[\"RENAES\"].apply(lambda x : round(x / sum(df1[\"RENAES\"])*100,0))\n",
    "df1.sort_values(\"%\", ascending = False)"
   ]
  },
  {
   "cell_type": "code",
   "execution_count": 11,
   "id": "1a19d1d8",
   "metadata": {},
   "outputs": [
    {
     "data": {
      "text/html": [
       "<div>\n",
       "<style scoped>\n",
       "    .dataframe tbody tr th:only-of-type {\n",
       "        vertical-align: middle;\n",
       "    }\n",
       "\n",
       "    .dataframe tbody tr th {\n",
       "        vertical-align: top;\n",
       "    }\n",
       "\n",
       "    .dataframe thead th {\n",
       "        text-align: right;\n",
       "    }\n",
       "</style>\n",
       "<table border=\"1\" class=\"dataframe\">\n",
       "  <thead>\n",
       "    <tr style=\"text-align: right;\">\n",
       "      <th></th>\n",
       "      <th>index</th>\n",
       "      <th>REGION</th>\n",
       "      <th>DISTRITO</th>\n",
       "      <th>RENAES</th>\n",
       "    </tr>\n",
       "  </thead>\n",
       "  <tbody>\n",
       "    <tr>\n",
       "      <th>0</th>\n",
       "      <td>0</td>\n",
       "      <td>LIMA</td>\n",
       "      <td>Lima</td>\n",
       "      <td>6</td>\n",
       "    </tr>\n",
       "    <tr>\n",
       "      <th>1</th>\n",
       "      <td>1</td>\n",
       "      <td>LA LIBERTAD</td>\n",
       "      <td>Trujillo</td>\n",
       "      <td>3</td>\n",
       "    </tr>\n",
       "    <tr>\n",
       "      <th>2</th>\n",
       "      <td>2</td>\n",
       "      <td>AREQUIPA</td>\n",
       "      <td>Arequipa</td>\n",
       "      <td>3</td>\n",
       "    </tr>\n",
       "    <tr>\n",
       "      <th>3</th>\n",
       "      <td>3</td>\n",
       "      <td>ICA</td>\n",
       "      <td>Ica</td>\n",
       "      <td>2</td>\n",
       "    </tr>\n",
       "    <tr>\n",
       "      <th>4</th>\n",
       "      <td>4</td>\n",
       "      <td>CALLAO</td>\n",
       "      <td>Bellavista</td>\n",
       "      <td>2</td>\n",
       "    </tr>\n",
       "    <tr>\n",
       "      <th>5</th>\n",
       "      <td>5</td>\n",
       "      <td>JUNIN</td>\n",
       "      <td>Huancayo</td>\n",
       "      <td>2</td>\n",
       "    </tr>\n",
       "    <tr>\n",
       "      <th>6</th>\n",
       "      <td>6</td>\n",
       "      <td>LAMBAYEQUE</td>\n",
       "      <td>Chiclayo</td>\n",
       "      <td>2</td>\n",
       "    </tr>\n",
       "    <tr>\n",
       "      <th>7</th>\n",
       "      <td>7</td>\n",
       "      <td>AMAZONAS</td>\n",
       "      <td>Chachapoyas</td>\n",
       "      <td>1</td>\n",
       "    </tr>\n",
       "    <tr>\n",
       "      <th>8</th>\n",
       "      <td>17</td>\n",
       "      <td>LORETO</td>\n",
       "      <td>Iquitos</td>\n",
       "      <td>1</td>\n",
       "    </tr>\n",
       "    <tr>\n",
       "      <th>9</th>\n",
       "      <td>21</td>\n",
       "      <td>MADRE DE DIOS</td>\n",
       "      <td>Tambopata</td>\n",
       "      <td>1</td>\n",
       "    </tr>\n",
       "    <tr>\n",
       "      <th>10</th>\n",
       "      <td>22</td>\n",
       "      <td>MOQUEGUA</td>\n",
       "      <td>Moquegua</td>\n",
       "      <td>1</td>\n",
       "    </tr>\n",
       "    <tr>\n",
       "      <th>11</th>\n",
       "      <td>23</td>\n",
       "      <td>PIURA</td>\n",
       "      <td>Piura</td>\n",
       "      <td>1</td>\n",
       "    </tr>\n",
       "    <tr>\n",
       "      <th>12</th>\n",
       "      <td>25</td>\n",
       "      <td>PUNO</td>\n",
       "      <td>Juliaca</td>\n",
       "      <td>1</td>\n",
       "    </tr>\n",
       "    <tr>\n",
       "      <th>13</th>\n",
       "      <td>27</td>\n",
       "      <td>SAN MARTIN</td>\n",
       "      <td>Moyobamba</td>\n",
       "      <td>1</td>\n",
       "    </tr>\n",
       "    <tr>\n",
       "      <th>14</th>\n",
       "      <td>29</td>\n",
       "      <td>TACNA</td>\n",
       "      <td>Tacna</td>\n",
       "      <td>1</td>\n",
       "    </tr>\n",
       "    <tr>\n",
       "      <th>15</th>\n",
       "      <td>30</td>\n",
       "      <td>TUMBES</td>\n",
       "      <td>Tumbes</td>\n",
       "      <td>1</td>\n",
       "    </tr>\n",
       "    <tr>\n",
       "      <th>16</th>\n",
       "      <td>31</td>\n",
       "      <td>UCAYALI</td>\n",
       "      <td>Calleria</td>\n",
       "      <td>1</td>\n",
       "    </tr>\n",
       "    <tr>\n",
       "      <th>17</th>\n",
       "      <td>36</td>\n",
       "      <td>ANCASH</td>\n",
       "      <td>Huaraz</td>\n",
       "      <td>1</td>\n",
       "    </tr>\n",
       "    <tr>\n",
       "      <th>18</th>\n",
       "      <td>38</td>\n",
       "      <td>APURIMAC</td>\n",
       "      <td>Abancay</td>\n",
       "      <td>1</td>\n",
       "    </tr>\n",
       "    <tr>\n",
       "      <th>19</th>\n",
       "      <td>42</td>\n",
       "      <td>AYACUCHO</td>\n",
       "      <td>Ayacucho</td>\n",
       "      <td>1</td>\n",
       "    </tr>\n",
       "    <tr>\n",
       "      <th>20</th>\n",
       "      <td>45</td>\n",
       "      <td>CAJAMARCA</td>\n",
       "      <td>Cajamarca</td>\n",
       "      <td>1</td>\n",
       "    </tr>\n",
       "    <tr>\n",
       "      <th>21</th>\n",
       "      <td>47</td>\n",
       "      <td>CUSCO</td>\n",
       "      <td>Cusco</td>\n",
       "      <td>1</td>\n",
       "    </tr>\n",
       "    <tr>\n",
       "      <th>22</th>\n",
       "      <td>49</td>\n",
       "      <td>HUANCAVELICA</td>\n",
       "      <td>Huancavelica</td>\n",
       "      <td>1</td>\n",
       "    </tr>\n",
       "    <tr>\n",
       "      <th>23</th>\n",
       "      <td>50</td>\n",
       "      <td>HUANUCO</td>\n",
       "      <td>Huanuco</td>\n",
       "      <td>1</td>\n",
       "    </tr>\n",
       "  </tbody>\n",
       "</table>\n",
       "</div>"
      ],
      "text/plain": [
       "    index         REGION      DISTRITO  RENAES\n",
       "0       0           LIMA          Lima       6\n",
       "1       1    LA LIBERTAD      Trujillo       3\n",
       "2       2       AREQUIPA      Arequipa       3\n",
       "3       3            ICA           Ica       2\n",
       "4       4         CALLAO    Bellavista       2\n",
       "5       5          JUNIN      Huancayo       2\n",
       "6       6     LAMBAYEQUE      Chiclayo       2\n",
       "7       7       AMAZONAS   Chachapoyas       1\n",
       "8      17         LORETO       Iquitos       1\n",
       "9      21  MADRE DE DIOS     Tambopata       1\n",
       "10     22       MOQUEGUA      Moquegua       1\n",
       "11     23          PIURA         Piura       1\n",
       "12     25           PUNO       Juliaca       1\n",
       "13     27     SAN MARTIN     Moyobamba       1\n",
       "14     29          TACNA         Tacna       1\n",
       "15     30         TUMBES        Tumbes       1\n",
       "16     31        UCAYALI      Calleria       1\n",
       "17     36         ANCASH        Huaraz       1\n",
       "18     38       APURIMAC       Abancay       1\n",
       "19     42       AYACUCHO      Ayacucho       1\n",
       "20     45      CAJAMARCA     Cajamarca       1\n",
       "21     47          CUSCO         Cusco       1\n",
       "22     49   HUANCAVELICA  Huancavelica       1\n",
       "23     50        HUANUCO       Huanuco       1"
      ]
     },
     "execution_count": 11,
     "metadata": {},
     "output_type": "execute_result"
    }
   ],
   "source": [
    "distritos_max_establecimientos = pd.DataFrame(data.groupby([\"REGION\", \"DISTRITO\"])[\"RENAES\"].nunique().sort_values(ascending = False)).reset_index()\n",
    "distritos_max_establecimientos.drop_duplicates(subset = \"REGION\").reset_index()"
   ]
  },
  {
   "cell_type": "code",
   "execution_count": 12,
   "id": "e11a4f96",
   "metadata": {},
   "outputs": [
    {
     "name": "stdout",
     "output_type": "stream",
     "text": [
      "Existen 534 código de diagnósticos en el dataset\n"
     ]
    }
   ],
   "source": [
    "print(f'Existen {len(data[\"CODIGO_DIAGNOSTICO\"].unique())} código de diagnósticos en el dataset')"
   ]
  },
  {
   "cell_type": "code",
   "execution_count": 13,
   "id": "e91ae9e3",
   "metadata": {},
   "outputs": [
    {
     "name": "stdout",
     "output_type": "stream",
     "text": [
      "Existen 534 diagnósticos en el dataset\n"
     ]
    }
   ],
   "source": [
    "print(f'Existen {len(data[\"DIAGNOSTICOS\"].unique())} diagnósticos en el dataset')"
   ]
  },
  {
   "cell_type": "code",
   "execution_count": 14,
   "id": "a84a9258",
   "metadata": {},
   "outputs": [
    {
     "data": {
      "text/plain": [
       "ENFERMEDAD RARA O HUERFANA                    91.92\n",
       "TRASPLANTE DE PROGENITORES HEMATOPOYÉTICOS     5.94\n",
       "TRASPLANTE RENAL                               1.64\n",
       "TRASPLANTE HEPÁTICO                            0.49\n",
       "Name: GRUPO_DIAGNOSTICOS, dtype: float64"
      ]
     },
     "execution_count": 14,
     "metadata": {},
     "output_type": "execute_result"
    }
   ],
   "source": [
    "data[\"GRUPO_DIAGNOSTICOS\"].value_counts().apply(lambda x : round(x / sum(data[\"GRUPO_DIAGNOSTICOS\"].value_counts())*100,2))"
   ]
  },
  {
   "cell_type": "code",
   "execution_count": 15,
   "id": "498d937f",
   "metadata": {},
   "outputs": [
    {
     "data": {
      "text/plain": [
       "GRUPO_DIAGNOSTICOS\n",
       "ENFERMEDAD RARA O HUERFANA                    98.459094\n",
       "TRASPLANTE DE PROGENITORES HEMATOPOYÉTICOS     1.167643\n",
       "TRASPLANTE HEPÁTICO                            0.080395\n",
       "TRASPLANTE RENAL                               0.292868\n",
       "Name: DOCUMENTO_ANONIMIZADO, dtype: float64"
      ]
     },
     "execution_count": 15,
     "metadata": {},
     "output_type": "execute_result"
    }
   ],
   "source": [
    "a = pd.DataFrame(data.groupby(\"GRUPO_DIAGNOSTICOS\")[\"DOCUMENTO_ANONIMIZADO\"].nunique())\n",
    "a[\"DOCUMENTO_ANONIMIZADO\"].apply(lambda x :x/sum(a[\"DOCUMENTO_ANONIMIZADO\"])*100)"
   ]
  },
  {
   "cell_type": "code",
   "execution_count": 16,
   "id": "2368f4de",
   "metadata": {},
   "outputs": [
    {
     "data": {
      "text/plain": [
       "ERH    91.92\n",
       "PAC     8.08\n",
       "Name: GRUPO_COBERTURA, dtype: float64"
      ]
     },
     "execution_count": 16,
     "metadata": {},
     "output_type": "execute_result"
    }
   ],
   "source": [
    "data[\"GRUPO_COBERTURA\"].value_counts().apply(lambda x : round(x / sum(data[\"GRUPO_COBERTURA\"].value_counts())*100,2))"
   ]
  },
  {
   "cell_type": "code",
   "execution_count": 17,
   "id": "93e3f7b9",
   "metadata": {},
   "outputs": [
    {
     "data": {
      "text/plain": [
       "FEMENINO     60.53\n",
       "MASCULINO    39.47\n",
       "Name: SEXO, dtype: float64"
      ]
     },
     "execution_count": 17,
     "metadata": {},
     "output_type": "execute_result"
    }
   ],
   "source": [
    "data[\"SEXO\"].value_counts().apply(lambda x : round(x/sum(data[\"SEXO\"].value_counts())*100,2))"
   ]
  },
  {
   "cell_type": "code",
   "execution_count": 18,
   "id": "43752457",
   "metadata": {},
   "outputs": [
    {
     "data": {
      "text/plain": [
       "0      44656\n",
       "1      26995\n",
       "2      24864\n",
       "55     21939\n",
       "57     21623\n",
       "       ...  \n",
       "106       50\n",
       "105       46\n",
       "102       33\n",
       "104        2\n",
       "109        1\n",
       "Name: EDAD, Length: 107, dtype: int64"
      ]
     },
     "execution_count": 18,
     "metadata": {},
     "output_type": "execute_result"
    }
   ],
   "source": [
    "data[\"EDAD\"].value_counts()"
   ]
  },
  {
   "cell_type": "code",
   "execution_count": 19,
   "id": "b43a4898",
   "metadata": {},
   "outputs": [
    {
     "data": {
      "text/plain": [
       "TIPO_SEGURO\n",
       "SIS EMPRENDEDOR       73\n",
       "SIS GRATUITO         102\n",
       "SIS INDEPENDIENTE     87\n",
       "SIS MICROEMPRESAS     19\n",
       "SIS PARA TODOS        96\n",
       "Name: EDAD, dtype: int64"
      ]
     },
     "execution_count": 19,
     "metadata": {},
     "output_type": "execute_result"
    }
   ],
   "source": [
    "b = pd.DataFrame(data.groupby([\"DOCUMENTO_ANONIMIZADO\", \"TIPO_SEGURO\"])[\"EDAD\"].nunique()).reset_index()\n",
    "b = pd.DataFrame(b.groupby(\"DOCUMENTO_ANONIMIZADO\")[\"TIPO_SEGURO\"].count().sort_values(ascending = False))\n",
    "b = b[b[\"TIPO_SEGURO\"] >1].reset_index()\n",
    "data[data[\"DOCUMENTO_ANONIMIZADO\"].isin(b[\"DOCUMENTO_ANONIMIZADO\"])].groupby(\"TIPO_SEGURO\")[\"EDAD\"].nunique()"
   ]
  },
  {
   "cell_type": "code",
   "execution_count": 20,
   "id": "ba29bcc8",
   "metadata": {},
   "outputs": [
    {
     "data": {
      "text/plain": [
       "SEXO       GRUPO_DIAGNOSTICOS                        \n",
       "FEMENINO   ENFERMEDAD RARA O HUERFANA                    56.530730\n",
       "           TRASPLANTE DE PROGENITORES HEMATOPOYÉTICOS     2.761077\n",
       "           TRASPLANTE HEPÁTICO                            0.338765\n",
       "           TRASPLANTE RENAL                               0.898424\n",
       "MASCULINO  ENFERMEDAD RARA O HUERFANA                    35.393641\n",
       "           TRASPLANTE DE PROGENITORES HEMATOPOYÉTICOS     3.182040\n",
       "           TRASPLANTE HEPÁTICO                            0.149627\n",
       "           TRASPLANTE RENAL                               0.745696\n",
       "Name: EDAD, dtype: float64"
      ]
     },
     "execution_count": 20,
     "metadata": {},
     "output_type": "execute_result"
    }
   ],
   "source": [
    "data.groupby([\"SEXO\",\"GRUPO_DIAGNOSTICOS\"])[\"EDAD\"].count().apply(lambda x : x/sum(data.groupby([\"SEXO\",\"GRUPO_DIAGNOSTICOS\"])[\"EDAD\"].count())*100)"
   ]
  },
  {
   "cell_type": "code",
   "execution_count": 21,
   "id": "820258ee",
   "metadata": {},
   "outputs": [
    {
     "data": {
      "text/plain": [
       "GRUPO_DIAGNOSTICOS          DIAGNOSTICOS                                                                \n",
       "ENFERMEDAD RARA O HUERFANA  Diabetes mellitus no insulinodependiente, sin mención de complicación (MODY)    103\n",
       "                            Enfermedad pulmonar intersticial, no especificada                               102\n",
       "                            Hipoglicemia, no especificada                                                    99\n",
       "                            Otras enfermedades pulmonares intersticiales con fibrosis                        97\n",
       "                            Trastorno del metabolismo de las lipoproteínas, no especificado                  97\n",
       "Name: EDAD, dtype: int64"
      ]
     },
     "execution_count": 21,
     "metadata": {},
     "output_type": "execute_result"
    }
   ],
   "source": [
    "data.groupby([\"GRUPO_DIAGNOSTICOS\",\"DIAGNOSTICOS\"])[\"EDAD\"].nunique().sort_values(ascending = False)[:5]"
   ]
  },
  {
   "cell_type": "code",
   "execution_count": 22,
   "id": "adf71f0b",
   "metadata": {},
   "outputs": [
    {
     "data": {
      "text/plain": [
       "13012"
      ]
     },
     "execution_count": 22,
     "metadata": {},
     "output_type": "execute_result"
    }
   ],
   "source": [
    "sum(data.groupby(\"DIAGNOSTICOS\")[\"EDAD\"].nunique().sort_values(ascending = False))"
   ]
  },
  {
   "cell_type": "code",
   "execution_count": 23,
   "id": "bb567c45",
   "metadata": {},
   "outputs": [
    {
     "data": {
      "text/plain": [
       "REGION\n",
       "AMAZONAS         0.005006\n",
       "ANCASH           0.025942\n",
       "APURIMAC         0.008540\n",
       "AREQUIPA         0.067464\n",
       "AYACUCHO         0.015246\n",
       "CAJAMARCA        0.010039\n",
       "CALLAO           0.078802\n",
       "CUSCO            0.033545\n",
       "HUANCAVELICA     0.005448\n",
       "HUANUCO          0.012824\n",
       "ICA              0.027508\n",
       "JUNIN            0.038524\n",
       "LA LIBERTAD      0.030680\n",
       "LAMBAYEQUE       0.038832\n",
       "LIMA             0.478529\n",
       "LORETO           0.019891\n",
       "MADRE DE DIOS    0.002717\n",
       "MOQUEGUA         0.008620\n",
       "PIURA            0.018968\n",
       "PUNO             0.013279\n",
       "SAN MARTIN       0.028699\n",
       "TACNA            0.017241\n",
       "TUMBES           0.007028\n",
       "UCAYALI          0.006626\n",
       "Name: DOCUMENTO_ANONIMIZADO, dtype: float64"
      ]
     },
     "execution_count": 23,
     "metadata": {},
     "output_type": "execute_result"
    }
   ],
   "source": [
    "data.groupby(\"REGION\")[\"DOCUMENTO_ANONIMIZADO\"].nunique().apply(lambda x : x/sum(data.groupby(\"REGION\")[\"DOCUMENTO_ANONIMIZADO\"].nunique()))"
   ]
  },
  {
   "cell_type": "code",
   "execution_count": 24,
   "id": "245e81a7",
   "metadata": {},
   "outputs": [
    {
     "data": {
      "text/plain": [
       "IPRESS\n",
       "INSTITUTO NACIONAL DE SALUD DEL NIÑO - SAN BORJA                                138403\n",
       "INSTITUTO NACIONAL DE SALUD DEL NIÑO - BREÑA                                    120936\n",
       "HOSPITAL NACIONAL CAYETANO HEREDIA                                               95790\n",
       "HOSPITAL NACIONAL ARZOBISPO LOAYZA                                               75302\n",
       "HOSPITAL NACIONAL DOS DE MAYO                                                    73555\n",
       "                                                                                 ...  \n",
       "INSTITUTO NACIONAL MATERNO PERINATAL                                              1186\n",
       "REGIONAL DOCENTE MATERNO INFANTIL \"EL CARMEN\"                                     1024\n",
       "INSTITUTO REGIONAL DE ENFERMEDADES NEOPLASICAS  LUIS PINILLOS GANOZA - IREN       984\n",
       "HOSPITAL DE APOYO SAN MIGUEL                                                       530\n",
       "ATENCION DOMICILIARIA AL ADULTO MAYOR Y PACIENTE ONCOLOGICO (ADAMO)                283\n",
       "Name: EDAD, Length: 74, dtype: int64"
      ]
     },
     "execution_count": 24,
     "metadata": {},
     "output_type": "execute_result"
    }
   ],
   "source": [
    "data.groupby(\"IPRESS\")[\"EDAD\"].count().sort_values(ascending = False)"
   ]
  },
  {
   "cell_type": "code",
   "execution_count": 25,
   "id": "588a3e80",
   "metadata": {},
   "outputs": [
    {
     "data": {
      "text/plain": [
       "1347754"
      ]
     },
     "execution_count": 25,
     "metadata": {},
     "output_type": "execute_result"
    }
   ],
   "source": [
    "sum(data.groupby(\"IPRESS\")[\"EDAD\"].count().sort_values(ascending = False))"
   ]
  },
  {
   "cell_type": "code",
   "execution_count": 26,
   "id": "dea59129",
   "metadata": {},
   "outputs": [
    {
     "data": {
      "text/plain": [
       "SEXO\n",
       "FEMENINO     47.704520\n",
       "MASCULINO    69.855058\n",
       "Name: MONTO_BRUTO, dtype: float64"
      ]
     },
     "execution_count": 26,
     "metadata": {},
     "output_type": "execute_result"
    }
   ],
   "source": [
    "data.groupby([\"SEXO\"])[\"MONTO_BRUTO\"].mean()"
   ]
  },
  {
   "cell_type": "code",
   "execution_count": 27,
   "id": "5a3c277c",
   "metadata": {},
   "outputs": [
    {
     "data": {
      "text/plain": [
       "SEXO\n",
       "FEMENINO     99.625\n",
       "MASCULINO    84.300\n",
       "Name: MONTO_BRUTO, dtype: float64"
      ]
     },
     "execution_count": 27,
     "metadata": {},
     "output_type": "execute_result"
    }
   ],
   "source": [
    "data.groupby([\"SEXO\",\"DOCUMENTO_ANONIMIZADO\"])[\"MONTO_BRUTO\"].sum().groupby(\"SEXO\").median()"
   ]
  },
  {
   "cell_type": "code",
   "execution_count": 34,
   "id": "faec6cd6",
   "metadata": {},
   "outputs": [
    {
     "data": {
      "text/html": [
       "<div>\n",
       "<style scoped>\n",
       "    .dataframe tbody tr th:only-of-type {\n",
       "        vertical-align: middle;\n",
       "    }\n",
       "\n",
       "    .dataframe tbody tr th {\n",
       "        vertical-align: top;\n",
       "    }\n",
       "\n",
       "    .dataframe thead th {\n",
       "        text-align: right;\n",
       "    }\n",
       "</style>\n",
       "<table border=\"1\" class=\"dataframe\">\n",
       "  <thead>\n",
       "    <tr style=\"text-align: right;\">\n",
       "      <th></th>\n",
       "      <th>MONTO_BRUTO</th>\n",
       "    </tr>\n",
       "    <tr>\n",
       "      <th>IPRESS</th>\n",
       "      <th></th>\n",
       "    </tr>\n",
       "  </thead>\n",
       "  <tbody>\n",
       "    <tr>\n",
       "      <th>INSTITUTO NACIONAL DE SALUD DEL NIÑO - SAN BORJA</th>\n",
       "      <td>2.276114e+07</td>\n",
       "    </tr>\n",
       "    <tr>\n",
       "      <th>INSTITUTO NACIONAL DE SALUD DEL NIÑO - BREÑA</th>\n",
       "      <td>1.043354e+07</td>\n",
       "    </tr>\n",
       "    <tr>\n",
       "      <th>HOSPITAL DE MEDIANA COMPLEJIDAD JOSE AGURTO TELLO</th>\n",
       "      <td>6.391084e+06</td>\n",
       "    </tr>\n",
       "    <tr>\n",
       "      <th>INSTITUTO NACIONAL DE ENFERMEDADES NEOPLASICAS - INEN</th>\n",
       "      <td>5.764913e+06</td>\n",
       "    </tr>\n",
       "    <tr>\n",
       "      <th>INSTITUTO NACIONAL DE CIENCIAS NEUROLOGICAS</th>\n",
       "      <td>4.011740e+06</td>\n",
       "    </tr>\n",
       "    <tr>\n",
       "      <th>...</th>\n",
       "      <td>...</td>\n",
       "    </tr>\n",
       "    <tr>\n",
       "      <th>INSTITUTO REGIONAL DE ENFERMEDADES NEOPLASICAS  LUIS PINILLOS GANOZA - IREN</th>\n",
       "      <td>1.422575e+04</td>\n",
       "    </tr>\n",
       "    <tr>\n",
       "      <th>HOSPITAL APLAO</th>\n",
       "      <td>9.721920e+03</td>\n",
       "    </tr>\n",
       "    <tr>\n",
       "      <th>HOSPITAL DE APOYO JESUS NAZARENO</th>\n",
       "      <td>2.672550e+03</td>\n",
       "    </tr>\n",
       "    <tr>\n",
       "      <th>HOSPITAL DE APOYO SAN MIGUEL</th>\n",
       "      <td>2.452930e+03</td>\n",
       "    </tr>\n",
       "    <tr>\n",
       "      <th>ATENCION DOMICILIARIA AL ADULTO MAYOR Y PACIENTE ONCOLOGICO (ADAMO)</th>\n",
       "      <td>1.521310e+03</td>\n",
       "    </tr>\n",
       "  </tbody>\n",
       "</table>\n",
       "<p>74 rows × 1 columns</p>\n",
       "</div>"
      ],
      "text/plain": [
       "                                                     MONTO_BRUTO\n",
       "IPRESS                                                          \n",
       "INSTITUTO NACIONAL DE SALUD DEL NIÑO - SAN BORJA    2.276114e+07\n",
       "INSTITUTO NACIONAL DE SALUD DEL NIÑO - BREÑA        1.043354e+07\n",
       "HOSPITAL DE MEDIANA COMPLEJIDAD JOSE AGURTO TELLO   6.391084e+06\n",
       "INSTITUTO NACIONAL DE ENFERMEDADES NEOPLASICAS ...  5.764913e+06\n",
       "INSTITUTO NACIONAL DE CIENCIAS NEUROLOGICAS         4.011740e+06\n",
       "...                                                          ...\n",
       "INSTITUTO REGIONAL DE ENFERMEDADES NEOPLASICAS ...  1.422575e+04\n",
       "HOSPITAL APLAO                                      9.721920e+03\n",
       "HOSPITAL DE APOYO JESUS NAZARENO                    2.672550e+03\n",
       "HOSPITAL DE APOYO SAN MIGUEL                        2.452930e+03\n",
       "ATENCION DOMICILIARIA AL ADULTO MAYOR Y PACIENT...  1.521310e+03\n",
       "\n",
       "[74 rows x 1 columns]"
      ]
     },
     "execution_count": 34,
     "metadata": {},
     "output_type": "execute_result"
    }
   ],
   "source": [
    "d = pd.DataFrame(data.groupby(\"IPRESS\")[\"MONTO_BRUTO\"].sum().sort_values(ascending = False))\n",
    "d"
   ]
  },
  {
   "cell_type": "code",
   "execution_count": 37,
   "id": "d4947898",
   "metadata": {},
   "outputs": [
    {
     "data": {
      "text/html": [
       "<div>\n",
       "<style scoped>\n",
       "    .dataframe tbody tr th:only-of-type {\n",
       "        vertical-align: middle;\n",
       "    }\n",
       "\n",
       "    .dataframe tbody tr th {\n",
       "        vertical-align: top;\n",
       "    }\n",
       "\n",
       "    .dataframe thead th {\n",
       "        text-align: right;\n",
       "    }\n",
       "</style>\n",
       "<table border=\"1\" class=\"dataframe\">\n",
       "  <thead>\n",
       "    <tr style=\"text-align: right;\">\n",
       "      <th></th>\n",
       "      <th>DOCUMENTO_ANONIMIZADO</th>\n",
       "    </tr>\n",
       "    <tr>\n",
       "      <th>IPRESS</th>\n",
       "      <th></th>\n",
       "    </tr>\n",
       "  </thead>\n",
       "  <tbody>\n",
       "    <tr>\n",
       "      <th>HOSPITAL MARIA AUXILIADORA</th>\n",
       "      <td>8512</td>\n",
       "    </tr>\n",
       "    <tr>\n",
       "      <th>HOSPITAL NACIONAL CAYETANO HEREDIA</th>\n",
       "      <td>5230</td>\n",
       "    </tr>\n",
       "    <tr>\n",
       "      <th>HOSPITAL NACIONAL DOS DE MAYO</th>\n",
       "      <td>5068</td>\n",
       "    </tr>\n",
       "    <tr>\n",
       "      <th>INSTITUTO NACIONAL DE SALUD DEL NIÑO - BREÑA</th>\n",
       "      <td>4634</td>\n",
       "    </tr>\n",
       "    <tr>\n",
       "      <th>HOSPITAL NACIONAL ARZOBISPO LOAYZA</th>\n",
       "      <td>3803</td>\n",
       "    </tr>\n",
       "    <tr>\n",
       "      <th>...</th>\n",
       "      <td>...</td>\n",
       "    </tr>\n",
       "    <tr>\n",
       "      <th>HOSPITAL DE EMERGENCIAS PEDIATRICAS</th>\n",
       "      <td>93</td>\n",
       "    </tr>\n",
       "    <tr>\n",
       "      <th>REGIONAL DOCENTE MATERNO INFANTIL \"EL CARMEN\"</th>\n",
       "      <td>91</td>\n",
       "    </tr>\n",
       "    <tr>\n",
       "      <th>HOSPITAL REGIONAL DE PUCALLPA</th>\n",
       "      <td>90</td>\n",
       "    </tr>\n",
       "    <tr>\n",
       "      <th>HOSPITAL DE APOYO SAN MIGUEL</th>\n",
       "      <td>54</td>\n",
       "    </tr>\n",
       "    <tr>\n",
       "      <th>ATENCION DOMICILIARIA AL ADULTO MAYOR Y PACIENTE ONCOLOGICO (ADAMO)</th>\n",
       "      <td>41</td>\n",
       "    </tr>\n",
       "  </tbody>\n",
       "</table>\n",
       "<p>74 rows × 1 columns</p>\n",
       "</div>"
      ],
      "text/plain": [
       "                                                    DOCUMENTO_ANONIMIZADO\n",
       "IPRESS                                                                   \n",
       "HOSPITAL MARIA AUXILIADORA                                           8512\n",
       "HOSPITAL NACIONAL CAYETANO HEREDIA                                   5230\n",
       "HOSPITAL NACIONAL DOS DE MAYO                                        5068\n",
       "INSTITUTO NACIONAL DE SALUD DEL NIÑO - BREÑA                         4634\n",
       "HOSPITAL NACIONAL ARZOBISPO LOAYZA                                   3803\n",
       "...                                                                   ...\n",
       "HOSPITAL DE EMERGENCIAS PEDIATRICAS                                    93\n",
       "REGIONAL DOCENTE MATERNO INFANTIL \"EL CARMEN\"                          91\n",
       "HOSPITAL REGIONAL DE PUCALLPA                                          90\n",
       "HOSPITAL DE APOYO SAN MIGUEL                                           54\n",
       "ATENCION DOMICILIARIA AL ADULTO MAYOR Y PACIENT...                     41\n",
       "\n",
       "[74 rows x 1 columns]"
      ]
     },
     "execution_count": 37,
     "metadata": {},
     "output_type": "execute_result"
    }
   ],
   "source": [
    "e = pd.DataFrame(data.groupby(\"IPRESS\")[\"DOCUMENTO_ANONIMIZADO\"].nunique().sort_values(ascending = False))\n",
    "e"
   ]
  },
  {
   "cell_type": "code",
   "execution_count": 39,
   "id": "ccb7b3a0",
   "metadata": {},
   "outputs": [
    {
     "data": {
      "text/html": [
       "<div>\n",
       "<style scoped>\n",
       "    .dataframe tbody tr th:only-of-type {\n",
       "        vertical-align: middle;\n",
       "    }\n",
       "\n",
       "    .dataframe tbody tr th {\n",
       "        vertical-align: top;\n",
       "    }\n",
       "\n",
       "    .dataframe thead th {\n",
       "        text-align: right;\n",
       "    }\n",
       "</style>\n",
       "<table border=\"1\" class=\"dataframe\">\n",
       "  <thead>\n",
       "    <tr style=\"text-align: right;\">\n",
       "      <th></th>\n",
       "      <th>MONTO_BRUTO</th>\n",
       "      <th>DOCUMENTO_ANONIMIZADO</th>\n",
       "      <th>Ingreso Medio</th>\n",
       "    </tr>\n",
       "    <tr>\n",
       "      <th>IPRESS</th>\n",
       "      <th></th>\n",
       "      <th></th>\n",
       "      <th></th>\n",
       "    </tr>\n",
       "  </thead>\n",
       "  <tbody>\n",
       "    <tr>\n",
       "      <th>INSTITUTO NACIONAL DE SALUD DEL NIÑO - SAN BORJA</th>\n",
       "      <td>2.276114e+07</td>\n",
       "      <td>2687</td>\n",
       "      <td>8470.836086</td>\n",
       "    </tr>\n",
       "    <tr>\n",
       "      <th>INSTITUTO NACIONAL DE SALUD DEL NIÑO - BREÑA</th>\n",
       "      <td>1.043354e+07</td>\n",
       "      <td>4634</td>\n",
       "      <td>2251.519041</td>\n",
       "    </tr>\n",
       "    <tr>\n",
       "      <th>HOSPITAL DE MEDIANA COMPLEJIDAD JOSE AGURTO TELLO</th>\n",
       "      <td>6.391084e+06</td>\n",
       "      <td>1270</td>\n",
       "      <td>5032.349606</td>\n",
       "    </tr>\n",
       "    <tr>\n",
       "      <th>INSTITUTO NACIONAL DE ENFERMEDADES NEOPLASICAS - INEN</th>\n",
       "      <td>5.764913e+06</td>\n",
       "      <td>1311</td>\n",
       "      <td>4397.340098</td>\n",
       "    </tr>\n",
       "    <tr>\n",
       "      <th>INSTITUTO NACIONAL DE CIENCIAS NEUROLOGICAS</th>\n",
       "      <td>4.011740e+06</td>\n",
       "      <td>2497</td>\n",
       "      <td>1606.623804</td>\n",
       "    </tr>\n",
       "    <tr>\n",
       "      <th>...</th>\n",
       "      <td>...</td>\n",
       "      <td>...</td>\n",
       "      <td>...</td>\n",
       "    </tr>\n",
       "    <tr>\n",
       "      <th>INSTITUTO REGIONAL DE ENFERMEDADES NEOPLASICAS  LUIS PINILLOS GANOZA - IREN</th>\n",
       "      <td>1.422575e+04</td>\n",
       "      <td>169</td>\n",
       "      <td>84.176065</td>\n",
       "    </tr>\n",
       "    <tr>\n",
       "      <th>HOSPITAL APLAO</th>\n",
       "      <td>9.721920e+03</td>\n",
       "      <td>235</td>\n",
       "      <td>41.369872</td>\n",
       "    </tr>\n",
       "    <tr>\n",
       "      <th>HOSPITAL DE APOYO JESUS NAZARENO</th>\n",
       "      <td>2.672550e+03</td>\n",
       "      <td>195</td>\n",
       "      <td>13.705385</td>\n",
       "    </tr>\n",
       "    <tr>\n",
       "      <th>HOSPITAL DE APOYO SAN MIGUEL</th>\n",
       "      <td>2.452930e+03</td>\n",
       "      <td>54</td>\n",
       "      <td>45.424630</td>\n",
       "    </tr>\n",
       "    <tr>\n",
       "      <th>ATENCION DOMICILIARIA AL ADULTO MAYOR Y PACIENTE ONCOLOGICO (ADAMO)</th>\n",
       "      <td>1.521310e+03</td>\n",
       "      <td>41</td>\n",
       "      <td>37.105122</td>\n",
       "    </tr>\n",
       "  </tbody>\n",
       "</table>\n",
       "<p>74 rows × 3 columns</p>\n",
       "</div>"
      ],
      "text/plain": [
       "                                                     MONTO_BRUTO  \\\n",
       "IPRESS                                                             \n",
       "INSTITUTO NACIONAL DE SALUD DEL NIÑO - SAN BORJA    2.276114e+07   \n",
       "INSTITUTO NACIONAL DE SALUD DEL NIÑO - BREÑA        1.043354e+07   \n",
       "HOSPITAL DE MEDIANA COMPLEJIDAD JOSE AGURTO TELLO   6.391084e+06   \n",
       "INSTITUTO NACIONAL DE ENFERMEDADES NEOPLASICAS ...  5.764913e+06   \n",
       "INSTITUTO NACIONAL DE CIENCIAS NEUROLOGICAS         4.011740e+06   \n",
       "...                                                          ...   \n",
       "INSTITUTO REGIONAL DE ENFERMEDADES NEOPLASICAS ...  1.422575e+04   \n",
       "HOSPITAL APLAO                                      9.721920e+03   \n",
       "HOSPITAL DE APOYO JESUS NAZARENO                    2.672550e+03   \n",
       "HOSPITAL DE APOYO SAN MIGUEL                        2.452930e+03   \n",
       "ATENCION DOMICILIARIA AL ADULTO MAYOR Y PACIENT...  1.521310e+03   \n",
       "\n",
       "                                                    DOCUMENTO_ANONIMIZADO  \\\n",
       "IPRESS                                                                      \n",
       "INSTITUTO NACIONAL DE SALUD DEL NIÑO - SAN BORJA                     2687   \n",
       "INSTITUTO NACIONAL DE SALUD DEL NIÑO - BREÑA                         4634   \n",
       "HOSPITAL DE MEDIANA COMPLEJIDAD JOSE AGURTO TELLO                    1270   \n",
       "INSTITUTO NACIONAL DE ENFERMEDADES NEOPLASICAS ...                   1311   \n",
       "INSTITUTO NACIONAL DE CIENCIAS NEUROLOGICAS                          2497   \n",
       "...                                                                   ...   \n",
       "INSTITUTO REGIONAL DE ENFERMEDADES NEOPLASICAS ...                    169   \n",
       "HOSPITAL APLAO                                                        235   \n",
       "HOSPITAL DE APOYO JESUS NAZARENO                                      195   \n",
       "HOSPITAL DE APOYO SAN MIGUEL                                           54   \n",
       "ATENCION DOMICILIARIA AL ADULTO MAYOR Y PACIENT...                     41   \n",
       "\n",
       "                                                    Ingreso Medio  \n",
       "IPRESS                                                             \n",
       "INSTITUTO NACIONAL DE SALUD DEL NIÑO - SAN BORJA      8470.836086  \n",
       "INSTITUTO NACIONAL DE SALUD DEL NIÑO - BREÑA          2251.519041  \n",
       "HOSPITAL DE MEDIANA COMPLEJIDAD JOSE AGURTO TELLO     5032.349606  \n",
       "INSTITUTO NACIONAL DE ENFERMEDADES NEOPLASICAS ...    4397.340098  \n",
       "INSTITUTO NACIONAL DE CIENCIAS NEUROLOGICAS           1606.623804  \n",
       "...                                                           ...  \n",
       "INSTITUTO REGIONAL DE ENFERMEDADES NEOPLASICAS ...      84.176065  \n",
       "HOSPITAL APLAO                                          41.369872  \n",
       "HOSPITAL DE APOYO JESUS NAZARENO                        13.705385  \n",
       "HOSPITAL DE APOYO SAN MIGUEL                            45.424630  \n",
       "ATENCION DOMICILIARIA AL ADULTO MAYOR Y PACIENT...      37.105122  \n",
       "\n",
       "[74 rows x 3 columns]"
      ]
     },
     "execution_count": 39,
     "metadata": {},
     "output_type": "execute_result"
    }
   ],
   "source": [
    "f = pd.merge(d, e, right_index = True, left_index = True)\n",
    "f[\"Ingreso Medio\"] = f[\"MONTO_BRUTO\"] / f[\"DOCUMENTO_ANONIMIZADO\"]\n",
    "f"
   ]
  }
 ],
 "metadata": {
  "kernelspec": {
   "display_name": "Python 3 (ipykernel)",
   "language": "python",
   "name": "python3"
  },
  "language_info": {
   "codemirror_mode": {
    "name": "ipython",
    "version": 3
   },
   "file_extension": ".py",
   "mimetype": "text/x-python",
   "name": "python",
   "nbconvert_exporter": "python",
   "pygments_lexer": "ipython3",
   "version": "3.9.7"
  }
 },
 "nbformat": 4,
 "nbformat_minor": 5
}
